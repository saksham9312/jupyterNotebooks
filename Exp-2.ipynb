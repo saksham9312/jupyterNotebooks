{
 "cells": [
  {
   "cell_type": "markdown",
   "metadata": {
    "id": "maVmfxrJMTo0"
   },
   "source": [
    "## Linear Regression From Scratch without any libraries"
   ]
  },
  {
   "cell_type": "markdown",
   "metadata": {
    "id": "IWnZyqPhMbGO"
   },
   "source": [
    "Data Loading"
   ]
  },
  {
   "cell_type": "code",
   "execution_count": 11,
   "metadata": {
    "colab": {
     "base_uri": "https://localhost:8080/",
     "height": 206
    },
    "id": "jgzGOndVMnO3",
    "outputId": "9b74200b-b6eb-4ba6-f4fc-e1428a7760a6"
   },
   "outputs": [
    {
     "data": {
      "application/vnd.google.colaboratory.intrinsic+json": {
       "summary": "{\n  \"name\": \"data\",\n  \"rows\": 200,\n  \"fields\": [\n    {\n      \"column\": \"TV\",\n      \"properties\": {\n        \"dtype\": \"number\",\n        \"std\": 85.85423631490808,\n        \"min\": 0.7,\n        \"max\": 296.4,\n        \"num_unique_values\": 190,\n        \"samples\": [\n          287.6,\n          286.0,\n          78.2\n        ],\n        \"semantic_type\": \"\",\n        \"description\": \"\"\n      }\n    },\n    {\n      \"column\": \"Radio\",\n      \"properties\": {\n        \"dtype\": \"number\",\n        \"std\": 14.846809176168724,\n        \"min\": 0.0,\n        \"max\": 49.6,\n        \"num_unique_values\": 167,\n        \"samples\": [\n          8.2,\n          36.9,\n          44.5\n        ],\n        \"semantic_type\": \"\",\n        \"description\": \"\"\n      }\n    },\n    {\n      \"column\": \"Newspaper\",\n      \"properties\": {\n        \"dtype\": \"number\",\n        \"std\": 21.778620838522826,\n        \"min\": 0.3,\n        \"max\": 114.0,\n        \"num_unique_values\": 172,\n        \"samples\": [\n          22.3,\n          5.7,\n          17.0\n        ],\n        \"semantic_type\": \"\",\n        \"description\": \"\"\n      }\n    },\n    {\n      \"column\": \"Sales\",\n      \"properties\": {\n        \"dtype\": \"number\",\n        \"std\": 5.283892252561876,\n        \"min\": 1.6,\n        \"max\": 27.0,\n        \"num_unique_values\": 121,\n        \"samples\": [\n          19.8,\n          22.6,\n          17.9\n        ],\n        \"semantic_type\": \"\",\n        \"description\": \"\"\n      }\n    }\n  ]\n}",
       "type": "dataframe",
       "variable_name": "data"
      },
      "text/html": [
       "\n",
       "  <div id=\"df-95209441-e0a0-45ae-8eae-9ee77dccc749\" class=\"colab-df-container\">\n",
       "    <div>\n",
       "<style scoped>\n",
       "    .dataframe tbody tr th:only-of-type {\n",
       "        vertical-align: middle;\n",
       "    }\n",
       "\n",
       "    .dataframe tbody tr th {\n",
       "        vertical-align: top;\n",
       "    }\n",
       "\n",
       "    .dataframe thead th {\n",
       "        text-align: right;\n",
       "    }\n",
       "</style>\n",
       "<table border=\"1\" class=\"dataframe\">\n",
       "  <thead>\n",
       "    <tr style=\"text-align: right;\">\n",
       "      <th></th>\n",
       "      <th>TV</th>\n",
       "      <th>Radio</th>\n",
       "      <th>Newspaper</th>\n",
       "      <th>Sales</th>\n",
       "    </tr>\n",
       "  </thead>\n",
       "  <tbody>\n",
       "    <tr>\n",
       "      <th>0</th>\n",
       "      <td>230.1</td>\n",
       "      <td>37.8</td>\n",
       "      <td>69.2</td>\n",
       "      <td>22.1</td>\n",
       "    </tr>\n",
       "    <tr>\n",
       "      <th>1</th>\n",
       "      <td>44.5</td>\n",
       "      <td>39.3</td>\n",
       "      <td>45.1</td>\n",
       "      <td>10.4</td>\n",
       "    </tr>\n",
       "    <tr>\n",
       "      <th>2</th>\n",
       "      <td>17.2</td>\n",
       "      <td>45.9</td>\n",
       "      <td>69.3</td>\n",
       "      <td>12.0</td>\n",
       "    </tr>\n",
       "    <tr>\n",
       "      <th>3</th>\n",
       "      <td>151.5</td>\n",
       "      <td>41.3</td>\n",
       "      <td>58.5</td>\n",
       "      <td>16.5</td>\n",
       "    </tr>\n",
       "    <tr>\n",
       "      <th>4</th>\n",
       "      <td>180.8</td>\n",
       "      <td>10.8</td>\n",
       "      <td>58.4</td>\n",
       "      <td>17.9</td>\n",
       "    </tr>\n",
       "  </tbody>\n",
       "</table>\n",
       "</div>\n",
       "    <div class=\"colab-df-buttons\">\n",
       "\n",
       "  <div class=\"colab-df-container\">\n",
       "    <button class=\"colab-df-convert\" onclick=\"convertToInteractive('df-95209441-e0a0-45ae-8eae-9ee77dccc749')\"\n",
       "            title=\"Convert this dataframe to an interactive table.\"\n",
       "            style=\"display:none;\">\n",
       "\n",
       "  <svg xmlns=\"http://www.w3.org/2000/svg\" height=\"24px\" viewBox=\"0 -960 960 960\">\n",
       "    <path d=\"M120-120v-720h720v720H120Zm60-500h600v-160H180v160Zm220 220h160v-160H400v160Zm0 220h160v-160H400v160ZM180-400h160v-160H180v160Zm440 0h160v-160H620v160ZM180-180h160v-160H180v160Zm440 0h160v-160H620v160Z\"/>\n",
       "  </svg>\n",
       "    </button>\n",
       "\n",
       "  <style>\n",
       "    .colab-df-container {\n",
       "      display:flex;\n",
       "      gap: 12px;\n",
       "    }\n",
       "\n",
       "    .colab-df-convert {\n",
       "      background-color: #E8F0FE;\n",
       "      border: none;\n",
       "      border-radius: 50%;\n",
       "      cursor: pointer;\n",
       "      display: none;\n",
       "      fill: #1967D2;\n",
       "      height: 32px;\n",
       "      padding: 0 0 0 0;\n",
       "      width: 32px;\n",
       "    }\n",
       "\n",
       "    .colab-df-convert:hover {\n",
       "      background-color: #E2EBFA;\n",
       "      box-shadow: 0px 1px 2px rgba(60, 64, 67, 0.3), 0px 1px 3px 1px rgba(60, 64, 67, 0.15);\n",
       "      fill: #174EA6;\n",
       "    }\n",
       "\n",
       "    .colab-df-buttons div {\n",
       "      margin-bottom: 4px;\n",
       "    }\n",
       "\n",
       "    [theme=dark] .colab-df-convert {\n",
       "      background-color: #3B4455;\n",
       "      fill: #D2E3FC;\n",
       "    }\n",
       "\n",
       "    [theme=dark] .colab-df-convert:hover {\n",
       "      background-color: #434B5C;\n",
       "      box-shadow: 0px 1px 3px 1px rgba(0, 0, 0, 0.15);\n",
       "      filter: drop-shadow(0px 1px 2px rgba(0, 0, 0, 0.3));\n",
       "      fill: #FFFFFF;\n",
       "    }\n",
       "  </style>\n",
       "\n",
       "    <script>\n",
       "      const buttonEl =\n",
       "        document.querySelector('#df-95209441-e0a0-45ae-8eae-9ee77dccc749 button.colab-df-convert');\n",
       "      buttonEl.style.display =\n",
       "        google.colab.kernel.accessAllowed ? 'block' : 'none';\n",
       "\n",
       "      async function convertToInteractive(key) {\n",
       "        const element = document.querySelector('#df-95209441-e0a0-45ae-8eae-9ee77dccc749');\n",
       "        const dataTable =\n",
       "          await google.colab.kernel.invokeFunction('convertToInteractive',\n",
       "                                                    [key], {});\n",
       "        if (!dataTable) return;\n",
       "\n",
       "        const docLinkHtml = 'Like what you see? Visit the ' +\n",
       "          '<a target=\"_blank\" href=https://colab.research.google.com/notebooks/data_table.ipynb>data table notebook</a>'\n",
       "          + ' to learn more about interactive tables.';\n",
       "        element.innerHTML = '';\n",
       "        dataTable['output_type'] = 'display_data';\n",
       "        await google.colab.output.renderOutput(dataTable, element);\n",
       "        const docLink = document.createElement('div');\n",
       "        docLink.innerHTML = docLinkHtml;\n",
       "        element.appendChild(docLink);\n",
       "      }\n",
       "    </script>\n",
       "  </div>\n",
       "\n",
       "\n",
       "<div id=\"df-0f44d681-6e52-4bd5-818a-114adaf06337\">\n",
       "  <button class=\"colab-df-quickchart\" onclick=\"quickchart('df-0f44d681-6e52-4bd5-818a-114adaf06337')\"\n",
       "            title=\"Suggest charts\"\n",
       "            style=\"display:none;\">\n",
       "\n",
       "<svg xmlns=\"http://www.w3.org/2000/svg\" height=\"24px\"viewBox=\"0 0 24 24\"\n",
       "     width=\"24px\">\n",
       "    <g>\n",
       "        <path d=\"M19 3H5c-1.1 0-2 .9-2 2v14c0 1.1.9 2 2 2h14c1.1 0 2-.9 2-2V5c0-1.1-.9-2-2-2zM9 17H7v-7h2v7zm4 0h-2V7h2v10zm4 0h-2v-4h2v4z\"/>\n",
       "    </g>\n",
       "</svg>\n",
       "  </button>\n",
       "\n",
       "<style>\n",
       "  .colab-df-quickchart {\n",
       "      --bg-color: #E8F0FE;\n",
       "      --fill-color: #1967D2;\n",
       "      --hover-bg-color: #E2EBFA;\n",
       "      --hover-fill-color: #174EA6;\n",
       "      --disabled-fill-color: #AAA;\n",
       "      --disabled-bg-color: #DDD;\n",
       "  }\n",
       "\n",
       "  [theme=dark] .colab-df-quickchart {\n",
       "      --bg-color: #3B4455;\n",
       "      --fill-color: #D2E3FC;\n",
       "      --hover-bg-color: #434B5C;\n",
       "      --hover-fill-color: #FFFFFF;\n",
       "      --disabled-bg-color: #3B4455;\n",
       "      --disabled-fill-color: #666;\n",
       "  }\n",
       "\n",
       "  .colab-df-quickchart {\n",
       "    background-color: var(--bg-color);\n",
       "    border: none;\n",
       "    border-radius: 50%;\n",
       "    cursor: pointer;\n",
       "    display: none;\n",
       "    fill: var(--fill-color);\n",
       "    height: 32px;\n",
       "    padding: 0;\n",
       "    width: 32px;\n",
       "  }\n",
       "\n",
       "  .colab-df-quickchart:hover {\n",
       "    background-color: var(--hover-bg-color);\n",
       "    box-shadow: 0 1px 2px rgba(60, 64, 67, 0.3), 0 1px 3px 1px rgba(60, 64, 67, 0.15);\n",
       "    fill: var(--button-hover-fill-color);\n",
       "  }\n",
       "\n",
       "  .colab-df-quickchart-complete:disabled,\n",
       "  .colab-df-quickchart-complete:disabled:hover {\n",
       "    background-color: var(--disabled-bg-color);\n",
       "    fill: var(--disabled-fill-color);\n",
       "    box-shadow: none;\n",
       "  }\n",
       "\n",
       "  .colab-df-spinner {\n",
       "    border: 2px solid var(--fill-color);\n",
       "    border-color: transparent;\n",
       "    border-bottom-color: var(--fill-color);\n",
       "    animation:\n",
       "      spin 1s steps(1) infinite;\n",
       "  }\n",
       "\n",
       "  @keyframes spin {\n",
       "    0% {\n",
       "      border-color: transparent;\n",
       "      border-bottom-color: var(--fill-color);\n",
       "      border-left-color: var(--fill-color);\n",
       "    }\n",
       "    20% {\n",
       "      border-color: transparent;\n",
       "      border-left-color: var(--fill-color);\n",
       "      border-top-color: var(--fill-color);\n",
       "    }\n",
       "    30% {\n",
       "      border-color: transparent;\n",
       "      border-left-color: var(--fill-color);\n",
       "      border-top-color: var(--fill-color);\n",
       "      border-right-color: var(--fill-color);\n",
       "    }\n",
       "    40% {\n",
       "      border-color: transparent;\n",
       "      border-right-color: var(--fill-color);\n",
       "      border-top-color: var(--fill-color);\n",
       "    }\n",
       "    60% {\n",
       "      border-color: transparent;\n",
       "      border-right-color: var(--fill-color);\n",
       "    }\n",
       "    80% {\n",
       "      border-color: transparent;\n",
       "      border-right-color: var(--fill-color);\n",
       "      border-bottom-color: var(--fill-color);\n",
       "    }\n",
       "    90% {\n",
       "      border-color: transparent;\n",
       "      border-bottom-color: var(--fill-color);\n",
       "    }\n",
       "  }\n",
       "</style>\n",
       "\n",
       "  <script>\n",
       "    async function quickchart(key) {\n",
       "      const quickchartButtonEl =\n",
       "        document.querySelector('#' + key + ' button');\n",
       "      quickchartButtonEl.disabled = true;  // To prevent multiple clicks.\n",
       "      quickchartButtonEl.classList.add('colab-df-spinner');\n",
       "      try {\n",
       "        const charts = await google.colab.kernel.invokeFunction(\n",
       "            'suggestCharts', [key], {});\n",
       "      } catch (error) {\n",
       "        console.error('Error during call to suggestCharts:', error);\n",
       "      }\n",
       "      quickchartButtonEl.classList.remove('colab-df-spinner');\n",
       "      quickchartButtonEl.classList.add('colab-df-quickchart-complete');\n",
       "    }\n",
       "    (() => {\n",
       "      let quickchartButtonEl =\n",
       "        document.querySelector('#df-0f44d681-6e52-4bd5-818a-114adaf06337 button');\n",
       "      quickchartButtonEl.style.display =\n",
       "        google.colab.kernel.accessAllowed ? 'block' : 'none';\n",
       "    })();\n",
       "  </script>\n",
       "</div>\n",
       "\n",
       "    </div>\n",
       "  </div>\n"
      ],
      "text/plain": [
       "      TV  Radio  Newspaper  Sales\n",
       "0  230.1   37.8       69.2   22.1\n",
       "1   44.5   39.3       45.1   10.4\n",
       "2   17.2   45.9       69.3   12.0\n",
       "3  151.5   41.3       58.5   16.5\n",
       "4  180.8   10.8       58.4   17.9"
      ]
     },
     "execution_count": 11,
     "metadata": {},
     "output_type": "execute_result"
    }
   ],
   "source": [
    "import pandas as pd\n",
    "data = pd.read_csv(\"advertising.csv\")\n",
    "data.head()"
   ]
  },
  {
   "cell_type": "markdown",
   "metadata": {
    "id": "YkU-9hUZPCyu"
   },
   "source": [
    "Linear Regression"
   ]
  },
  {
   "cell_type": "code",
   "execution_count": 12,
   "metadata": {
    "id": "nE6-E8gfOmJ9"
   },
   "outputs": [],
   "source": [
    "def predict_sales(radio, weight, bias):\n",
    "    return weight*radio + bias"
   ]
  },
  {
   "cell_type": "code",
   "execution_count": 13,
   "metadata": {
    "id": "mkkDkx-qMthr"
   },
   "outputs": [],
   "source": [
    "def cost_function(radio, sales, weight, bias):\n",
    "    companies = len(radio)\n",
    "    total_error = 0.0\n",
    "    for i in range(companies):\n",
    "        total_error += (sales[i] - (weight*radio[i] + bias))**2\n",
    "    return total_error / companies"
   ]
  },
  {
   "cell_type": "code",
   "execution_count": 14,
   "metadata": {
    "id": "iERT2XyzMzEq"
   },
   "outputs": [],
   "source": [
    "def update_weights(radio, sales, weight, bias, learning_rate):\n",
    "    weight_deriv = 0\n",
    "    bias_deriv = 0\n",
    "    companies = len(radio)\n",
    "\n",
    "    for i in range(companies):\n",
    "        # Calculate partial derivatives\n",
    "        # -2x(y - (mx + b))\n",
    "        weight_deriv += -2*radio[i] * (sales[i] - (weight*radio[i] + bias))\n",
    "\n",
    "        # -2(y - (mx + b))\n",
    "        bias_deriv += -2*(sales[i] - (weight*radio[i] + bias))\n",
    "\n",
    "    # We subtract because the derivatives point in direction of steepest ascent\n",
    "    weight -= (weight_deriv / companies) * learning_rate\n",
    "    bias -= (bias_deriv / companies) * learning_rate\n",
    "\n",
    "    return weight, bias"
   ]
  },
  {
   "cell_type": "code",
   "execution_count": 15,
   "metadata": {
    "id": "VNRTz89vNeyX"
   },
   "outputs": [],
   "source": [
    "def train(radio, sales, weight, bias, learning_rate, iters):\n",
    "    cost_history = []\n",
    "\n",
    "    for i in range(iters):\n",
    "        weight,bias = update_weights(radio, sales, weight, bias, learning_rate)\n",
    "\n",
    "        #Calculate cost for auditing purposes\n",
    "        cost = cost_function(radio, sales, weight, bias)\n",
    "        cost_history.append(cost)\n",
    "\n",
    "        # Log Progress\n",
    "        if i % 10 == 0:\n",
    "            print(\"iter={:d}    weight={:.2f}    bias={:.4f}    cost={:.2}\".format(i, weight, bias, cost))\n",
    "\n",
    "    return weight, bias, cost_history\n"
   ]
  },
  {
   "cell_type": "markdown",
   "metadata": {
    "id": "It0my-I-PKo2"
   },
   "source": [
    "Training Model"
   ]
  },
  {
   "cell_type": "code",
   "execution_count": 16,
   "metadata": {
    "colab": {
     "base_uri": "https://localhost:8080/"
    },
    "id": "ON7yg3KAO1E7",
    "outputId": "0f59afab-9b6d-4fc6-f1dc-0e1148a4797e"
   },
   "outputs": [
    {
     "name": "stdout",
     "output_type": "stream",
     "text": [
      "iter=0    weight=7.59    bias=0.3026    cost=3.8e+04\n",
      "iter=10    weight=2405173039799.18    bias=73599287290.5942    cost=4.4e+27\n",
      "iter=20    weight=815974020723917184827392.00    bias=24969141670289308909568.0000    cost=5.1e+50\n",
      "iter=30    weight=276825655152063131060260668006465536.00    bias=8470979254131427124399864041963520.0000    cost=5.8e+73\n",
      "iter=40    weight=93915298041452327294731439888541830077428531200.00    bias=2873846865521575588505351860423181092761108480.0000    cost=6.7e+96\n",
      "iter=50    weight=31861509372640639389418406280951599831087152017021203382272.00    bias=974975331504933409782714414364953867539709003923550371840.0000    cost=7.7e+119\n",
      "iter=60    weight=10809269636292856088171973252592657331885255059040396045391077683757056.00    bias=330768110314963329617902546569290030461484127346338398066860529549312.0000    cost=8.9e+142\n",
      "iter=70    weight=3667130414430807992123323032464152800471756619739632767020847353568919970574761984.00    bias=112215703583448187380655398930486377923178599878651046772591909302535373451165696.0000    cost=1e+166\n",
      "iter=80    weight=1244103064215495172460555930276457043944203421873038932341450357342950699739056083185900191744.00    bias=38070067028945683515670789204672320414737788491970854562416599568640836965313512469237334016.0000    cost=1.2e+189\n",
      "iter=90    weight=422071827142975599211959064351080090544911897482541646784448822863269008614659147381005175280085961277440.00    bias=12915572039439462603598556492929799995921815084888149595916987741353389463307119662796837843021672218624.0000    cost=1.4e+212\n"
     ]
    },
    {
     "data": {
      "text/plain": [
       "(-1.006614932547681e+115,\n",
       " -3.08028322224193e+113,\n",
       " [38364.16330524686,\n",
       "  7749556.174937002,\n",
       "  1568119390.2759905,\n",
       "  317310985414.3346,\n",
       "  64208290697878.26,\n",
       "  1.2992631155844442e+16,\n",
       "  2.629075817425043e+18,\n",
       "  5.3199691200807895e+20,\n",
       "  1.0765026725753641e+23,\n",
       "  2.1783171629468084e+25,\n",
       "  4.4078531185034627e+27,\n",
       "  8.919348130194725e+29,\n",
       "  1.804841697960622e+32,\n",
       "  3.652120656295389e+34,\n",
       "  7.390113661054424e+36,\n",
       "  1.4953991136399633e+39,\n",
       "  3.0259595611633992e+41,\n",
       "  6.123068538878864e+43,\n",
       "  1.2390108847784284e+46,\n",
       "  2.5071546445248688e+48,\n",
       "  5.0732600405578486e+50,\n",
       "  1.0265807693724723e+53,\n",
       "  2.0772995423461308e+55,\n",
       "  4.203442649007765e+57,\n",
       "  8.505720885848681e+59,\n",
       "  1.7211436869500366e+62,\n",
       "  3.482756642128388e+64,\n",
       "  7.047403375010331e+66,\n",
       "  1.4260512414027028e+69,\n",
       "  2.8856332394954074e+71,\n",
       "  5.839116401378538e+73,\n",
       "  1.1815528003416633e+76,\n",
       "  2.3908874631539007e+78,\n",
       "  4.837991886451058e+80,\n",
       "  9.789739523118512e+82,\n",
       "  1.9809665286729534e+85,\n",
       "  4.00851154257525e+87,\n",
       "  8.111275255984789e+89,\n",
       "  1.6413271005846424e+92,\n",
       "  3.3212467412271506e+94,\n",
       "  6.72058598933925e+96,\n",
       "  1.3599193182321308e+99,\n",
       "  2.7518144326024296e+101,\n",
       "  5.568332304686364e+103,\n",
       "  1.1267592860936686e+106,\n",
       "  2.280012074225203e+108,\n",
       "  4.613634094496883e+110,\n",
       "  9.335748612268796e+112,\n",
       "  1.889100877233381e+115,\n",
       "  3.822620201741535e+117,\n",
       "  7.735121709414826e+119,\n",
       "  1.5652119410712531e+122,\n",
       "  3.167226725715444e+124,\n",
       "  6.408924484195165e+126,\n",
       "  1.296854207203556e+129,\n",
       "  2.6242013599771242e+131,\n",
       "  5.310105592019634e+133,\n",
       "  1.0745067748400203e+136,\n",
       "  2.1742784379132836e+138,\n",
       "  4.399680705855472e+140,\n",
       "  8.902811146880761e+142,\n",
       "  1.8014954178729035e+145,\n",
       "  3.645349415003752e+147,\n",
       "  7.376411966208904e+149,\n",
       "  1.4926265578624607e+152,\n",
       "  3.0203492584774657e+154,\n",
       "  6.111716018405443e+156,\n",
       "  1.236713687491328e+159,\n",
       "  2.502506235928545e+161,\n",
       "  5.0638539252887256e+163,\n",
       "  1.0246774297106782e+166,\n",
       "  2.0734481097785953e+168,\n",
       "  4.195649225101323e+170,\n",
       "  8.489950791183793e+172,\n",
       "  1.717952587778153e+175,\n",
       "  3.476299411438796e+177,\n",
       "  7.034337084703228e+179,\n",
       "  1.423407260560191e+182,\n",
       "  2.8802831098631505e+184,\n",
       "  5.828290344464013e+186,\n",
       "  1.1793621336406197e+189,\n",
       "  2.3864546205843982e+191,\n",
       "  4.829021971841669e+193,\n",
       "  9.771588784210384e+195,\n",
       "  1.977293703041307e+198,\n",
       "  4.0010795321272097e+200,\n",
       "  8.096236486154853e+202,\n",
       "  1.6382839859445508e+205,\n",
       "  3.315088959162878e+207,\n",
       "  6.708125637221213e+209,\n",
       "  1.3573979497704827e+212,\n",
       "  2.7467124107179997e+214,\n",
       "  5.55800829702738e+216,\n",
       "  1.1246702097126388e+219,\n",
       "  2.2757848009899042e+221,\n",
       "  4.6050801521096507e+223,\n",
       "  9.318439598563912e+225,\n",
       "  1.8855983757916632e+228,\n",
       "  3.815532844507684e+230,\n",
       "  7.720780349847649e+232])"
      ]
     },
     "execution_count": 16,
     "metadata": {},
     "output_type": "execute_result"
    }
   ],
   "source": [
    "radio = data['Radio'].values\n",
    "sales = data['Sales'].values\n",
    "weight = 0\n",
    "bias = 0\n",
    "lr = 0.01\n",
    "iters = 100\n",
    "train(radio,sales,weight,bias,lr,iters)"
   ]
  },
  {
   "cell_type": "markdown",
   "metadata": {
    "id": "S7ptf_7uLRNt"
   },
   "source": [
    "## Linear Regression From Scratch without Scikit-Learn"
   ]
  },
  {
   "cell_type": "markdown",
   "metadata": {
    "id": "PnWmfXCnJdvd"
   },
   "source": [
    "Imports"
   ]
  },
  {
   "cell_type": "code",
   "execution_count": 1,
   "metadata": {
    "id": "i8WFQTu6JbEB"
   },
   "outputs": [],
   "source": [
    "import pandas as pd\n",
    "import numpy as np\n",
    "import math\n",
    "import operator\n",
    "import matplotlib.pyplot as plt\n",
    "%matplotlib inline"
   ]
  },
  {
   "cell_type": "markdown",
   "metadata": {
    "id": "odjlqwAOKSfU"
   },
   "source": [
    "Data Loading and Processing"
   ]
  },
  {
   "cell_type": "code",
   "execution_count": 3,
   "metadata": {
    "colab": {
     "base_uri": "https://localhost:8080/"
    },
    "id": "7H0esY81J8T5",
    "outputId": "88aa38a6-f876-45d9-e3b4-b3572ab5a482"
   },
   "outputs": [
    {
     "name": "stdout",
     "output_type": "stream",
     "text": [
      "   longitude  latitude  housing_median_age  total_rooms  total_bedrooms  \\\n",
      "0    -114.31     34.19                15.0       5612.0          1283.0   \n",
      "1    -114.47     34.40                19.0       7650.0          1901.0   \n",
      "2    -114.56     33.69                17.0        720.0           174.0   \n",
      "3    -114.57     33.64                14.0       1501.0           337.0   \n",
      "4    -114.57     33.57                20.0       1454.0           326.0   \n",
      "\n",
      "   population  households  median_income  median_house_value  \n",
      "0      1015.0       472.0         1.4936             66900.0  \n",
      "1      1129.0       463.0         1.8200             80100.0  \n",
      "2       333.0       117.0         1.6509             85700.0  \n",
      "3       515.0       226.0         3.1917             73400.0  \n",
      "4       624.0       262.0         1.9250             65500.0  \n"
     ]
    }
   ],
   "source": [
    "data = pd.read_csv('/content/sample_data/california_housing_train.csv')\n",
    "print(data.head())"
   ]
  },
  {
   "cell_type": "code",
   "execution_count": 4,
   "metadata": {
    "colab": {
     "base_uri": "https://localhost:8080/"
    },
    "id": "dFtk_hURKv9Z",
    "outputId": "933ff31f-f0d7-4b46-e8fd-d07552691a28"
   },
   "outputs": [
    {
     "name": "stdout",
     "output_type": "stream",
     "text": [
      "Mean Longitude: -119.5621082352941\n",
      "Mean Latitude: 35.62522470588235\n",
      "Mean Housing Median Age: 28.58935294117647\n",
      "Mean Total Rooms: 2643.664411764706\n",
      "Mean Total Bedrooms: 539.4108235294118\n",
      "Mean Population: 1429.5739411764705\n",
      "Mean Households: 501.2219411764706\n",
      "Mean Median Income: 3.8835781000000007\n",
      "Mean Median House Value: 207300.91235294117\n"
     ]
    }
   ],
   "source": [
    "longitude = data['longitude'].values\n",
    "latitude = data['latitude'].values\n",
    "housing_median_age = data['housing_median_age'].values\n",
    "total_rooms = data['total_rooms'].values\n",
    "total_bedrooms = data['total_bedrooms'].values\n",
    "population = data['population'].values\n",
    "households = data['households'].values\n",
    "median_income = data['median_income'].values\n",
    "median_house_value = data['median_house_value'].values\n",
    "\n",
    "mean_longitude = np.mean(longitude)\n",
    "mean_latitude = np.mean(latitude)\n",
    "mean_housing_median_age = np.mean(housing_median_age)\n",
    "mean_total_rooms = np.mean(total_rooms)\n",
    "mean_total_bedrooms = np.mean(total_bedrooms)\n",
    "mean_population = np.mean(population)\n",
    "mean_households = np.mean(households)\n",
    "mean_median_income = np.mean(median_income)\n",
    "mean_median_house_value = np.mean(median_house_value)\n",
    "\n",
    "print(\"Mean Longitude:\", mean_longitude)\n",
    "print(\"Mean Latitude:\", mean_latitude)\n",
    "print(\"Mean Housing Median Age:\", mean_housing_median_age)\n",
    "print(\"Mean Total Rooms:\", mean_total_rooms)\n",
    "print(\"Mean Total Bedrooms:\", mean_total_bedrooms)\n",
    "print(\"Mean Population:\", mean_population)\n",
    "print(\"Mean Households:\", mean_households)\n",
    "print(\"Mean Median Income:\", mean_median_income)\n",
    "print(\"Mean Median House Value:\", mean_median_house_value)"
   ]
  },
  {
   "cell_type": "markdown",
   "metadata": {
    "id": "bfVtJeQfLqmM"
   },
   "source": [
    "Model Training and Accuracy"
   ]
  },
  {
   "cell_type": "code",
   "execution_count": 5,
   "metadata": {
    "colab": {
     "base_uri": "https://localhost:8080/",
     "height": 501
    },
    "id": "QylajjXFLIsv",
    "outputId": "7a56bf10-cdc8-4c16-c4d5-549810f8ab2f"
   },
   "outputs": [
    {
     "name": "stdout",
     "output_type": "stream",
     "text": [
      "m = 6.969381760507142 \n",
      "c = 188876.2058206864\n"
     ]
    },
    {
     "data": {
      "image/png": "[encoded data removed]",
      "text/plain": [
       "<Figure size 640x480 with 1 Axes>"
      ]
     },
     "metadata": {},
     "output_type": "display_data"
    },
    {
     "name": "stdout",
     "output_type": "stream",
     "text": [
      "R-squared value: 0.01715876423117879\n"
     ]
    }
   ],
   "source": [
    "X = data['total_rooms'].values\n",
    "Y = data['median_house_value'].values\n",
    "\n",
    "# Calculate the mean of X and Y\n",
    "mean_x = np.mean(X)\n",
    "mean_y = np.mean(Y)\n",
    "\n",
    "# Total number of values\n",
    "m = len(X)\n",
    "\n",
    "# Using the formula to calculate m (slope) and c (intercept)\n",
    "numer = 0\n",
    "denom = 0\n",
    "for i in range(m):\n",
    "    numer += (X[i] - mean_x) * (Y[i] - mean_y)\n",
    "    denom += (X[i] - mean_x) ** 2\n",
    "slope = numer / denom\n",
    "intercept = mean_y - (slope * mean_x)\n",
    "\n",
    "print(f'm = {slope} \\nc = {intercept}')\n",
    "\n",
    "# Plotting values and regression line\n",
    "max_x = np.max(X) + 100\n",
    "min_x = np.min(X) - 100\n",
    "\n",
    "# Calculating line values x and y\n",
    "x = np.linspace(min_x, max_x, 100)\n",
    "y = intercept + slope * x\n",
    "\n",
    "plt.plot(x, y, color='#58b970', label='Regression Line')\n",
    "plt.scatter(X, Y, c='#ef5423', label='Data Points')\n",
    "\n",
    "plt.xlabel('Total Rooms')\n",
    "plt.ylabel('Median House Value')\n",
    "plt.legend()\n",
    "plt.show()\n",
    "\n",
    "# Calculating R-squared value for measuring goodness of our model\n",
    "ss_t = 0  # Total sum of squares\n",
    "ss_r = 0  # Total sum of square of residuals\n",
    "\n",
    "for i in range(m):  # m represents the number of input X values\n",
    "    y_pred = intercept + slope * X[i]\n",
    "    ss_t += (Y[i] - mean_y) ** 2\n",
    "    ss_r += (Y[i] - y_pred) ** 2\n",
    "r2 = 1 - (ss_r / ss_t)\n",
    "\n",
    "print(f'R-squared value: {r2}')"
   ]
  },
  {
   "cell_type": "markdown",
   "metadata": {
    "id": "huSRQzlaPOke"
   },
   "source": [
    "## Linear Regression with Scikit-Learn\n"
   ]
  },
  {
   "cell_type": "markdown",
   "metadata": {
    "id": "N3-KlEhRP3Vu"
   },
   "source": [
    "Imports"
   ]
  },
  {
   "cell_type": "code",
   "execution_count": 18,
   "metadata": {
    "id": "GHjSMLkBPVCy"
   },
   "outputs": [],
   "source": [
    "import numpy as np\n",
    "from sklearn.metrics import mean_squared_error\n",
    "from sklearn.preprocessing import StandardScaler\n",
    "from sklearn.model_selection import train_test_split"
   ]
  },
  {
   "cell_type": "code",
   "execution_count": 20,
   "metadata": {
    "colab": {
     "base_uri": "https://localhost:8080/"
    },
    "id": "Vq8XAL-9QR_0",
    "outputId": "c8c29113-6734-44f1-ae63-d9c1b2f516d5"
   },
   "outputs": [
    {
     "name": "stdout",
     "output_type": "stream",
     "text": [
      "   longitude  latitude  housing_median_age  total_rooms  total_bedrooms  \\\n",
      "0    -114.31     34.19                15.0       5612.0          1283.0   \n",
      "1    -114.47     34.40                19.0       7650.0          1901.0   \n",
      "2    -114.56     33.69                17.0        720.0           174.0   \n",
      "3    -114.57     33.64                14.0       1501.0           337.0   \n",
      "4    -114.57     33.57                20.0       1454.0           326.0   \n",
      "\n",
      "   population  households  median_income  median_house_value  \n",
      "0      1015.0       472.0         1.4936             66900.0  \n",
      "1      1129.0       463.0         1.8200             80100.0  \n",
      "2       333.0       117.0         1.6509             85700.0  \n",
      "3       515.0       226.0         3.1917             73400.0  \n",
      "4       624.0       262.0         1.9250             65500.0  \n"
     ]
    }
   ],
   "source": [
    "data = pd.read_csv('/content/sample_data/california_housing_train.csv')\n",
    "print(data.head())"
   ]
  },
  {
   "cell_type": "code",
   "execution_count": 29,
   "metadata": {
    "id": "6vAILaabP6LC"
   },
   "outputs": [],
   "source": [
    "# Split data into features (X) and target (y)\n",
    "X = data.iloc[:, :-1]\n",
    "y = data.iloc[:, -1]"
   ]
  },
  {
   "cell_type": "code",
   "execution_count": 30,
   "metadata": {
    "id": "VjYEPNSdQJtU"
   },
   "outputs": [],
   "source": [
    "# Standardize the features\n",
    "scaler = StandardScaler()\n",
    "X_scaled = scaler.fit_transform(X)"
   ]
  },
  {
   "cell_type": "code",
   "execution_count": 31,
   "metadata": {
    "id": "wQaomd5MQidM"
   },
   "outputs": [],
   "source": [
    "# Add a bias term (intercept)\n",
    "X_scaled = np.hstack([np.ones((X_scaled.shape[0], 1)), X_scaled])"
   ]
  },
  {
   "cell_type": "code",
   "execution_count": 32,
   "metadata": {
    "id": "T1-Bci1CQrq4"
   },
   "outputs": [],
   "source": [
    "# Compute the coefficients using the Normal Equation\n",
    "theta = np.linalg.inv(X_scaled.T @ X_scaled) @ X_scaled.T @ y"
   ]
  },
  {
   "cell_type": "code",
   "execution_count": 33,
   "metadata": {
    "id": "zaBHA6GiQm9i"
   },
   "outputs": [],
   "source": [
    "# Predictions\n",
    "y_pred = X_scaled @ theta"
   ]
  },
  {
   "cell_type": "code",
   "execution_count": 34,
   "metadata": {
    "colab": {
     "base_uri": "https://localhost:8080/"
    },
    "id": "XqwxNDCAQw0o",
    "outputId": "151140b7-1a0d-4a8e-be4b-8dbdd959161e"
   },
   "outputs": [
    {
     "name": "stdout",
     "output_type": "stream",
     "text": [
      "Coefficients: [207300.91235294 -86499.60728226 -91744.05083061  14483.29860201\n",
      " -18263.60700749  49587.33777166 -44178.15153005  17470.57604338\n",
      "  77291.55314914]\n",
      "Mean Squared Error: 4824523173.926899\n"
     ]
    }
   ],
   "source": [
    "# Calculate the Mean Squared Error\n",
    "mse = mean_squared_error(y, y_pred)\n",
    "\n",
    "print(\"Coefficients:\", theta)\n",
    "print(\"Mean Squared Error:\", mse)"
   ]
  }
 ],
 "metadata": {
  "colab": {
   "provenance": []
  },
  "kernelspec": {
   "display_name": "Python 3 (ipykernel)",
   "language": "python",
   "name": "python3"
  },
  "language_info": {
   "codemirror_mode": {
    "name": "ipython",
    "version": 3
   },
   "file_extension": ".py",
   "mimetype": "text/x-python",
   "name": "python",
   "nbconvert_exporter": "python",
   "pygments_lexer": "ipython3",
   "version": "3.11.6"
  }
 },
 "nbformat": 4,
 "nbformat_minor": 4
}
